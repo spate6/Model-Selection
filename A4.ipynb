{
 "cells": [
  {
   "cell_type": "markdown",
   "metadata": {},
   "source": [
    "# A4: Model Selection, Cross-validation, Confidence Intervals [ __ /70 marks]\n",
    "\n",
    "<hr>\n",
    "<img src= \"https://media.pri.org/s3fs-public/styles/open_graph/public/photos/2014-May/nasa_firemap_2014_05_12.jpg?itok=V3d6c0dx\" width=500>\n",
    "<hr>\n",
    "\n",
    "In this assignment we will compare 3 different models (and select one) on a modified version of the [\"forest fires\"](https://archive.ics.uci.edu/ml/datasets/Forest+Fires) dataset. Specifically, given some input features (temperature, relative humidity, etc.) and an output y (`area`) we wish to build models, select a particular model, and make predictions on unseen data. We also want to bound our prediction with a 95% confidence interval (CI); for this confidence interval we will use the Central Limit Theorem (CLT)."
   ]
  },
  {
   "cell_type": "markdown",
   "metadata": {},
   "source": [
    "## Before you start...\n",
    "* see relevant lecture code (`L5_CF.ipynb`, `L4_CF.ipynb`)"
   ]
  },
  {
   "cell_type": "markdown",
   "metadata": {},
   "source": [
    "## Before you submit...\n",
    "* restart the kernel, then re-run the whole notebook to ensure no errors"
   ]
  },
  {
   "cell_type": "code",
   "execution_count": 1,
   "metadata": {},
   "outputs": [],
   "source": [
    "import pandas as pd\n",
    "import numpy as np\n",
    "import matplotlib.pyplot as plt\n",
    "import seaborn as sns\n",
    "from sklearn.model_selection import train_test_split, cross_val_score, KFold\n",
    "from sklearn.linear_model import LinearRegression\n",
    "from sklearn.pipeline import Pipeline\n",
    "from sklearn.preprocessing import StandardScaler, PolynomialFeatures\n",
    "from sklearn.metrics import make_scorer\n",
    "from sklearn.base import BaseEstimator, TransformerMixin\n",
    "%matplotlib inline"
   ]
  },
  {
   "cell_type": "markdown",
   "metadata": {},
   "source": [
    "## Question 1.1 [ _ /4 marks]\n",
    "\n",
    "Read the file `ffd.csv` into a dataframe. Display the first 5 rows of this dataframe. "
   ]
  },
  {
   "cell_type": "code",
   "execution_count": 2,
   "metadata": {},
   "outputs": [
    {
     "data": {
      "text/html": [
       "<div>\n",
       "<style scoped>\n",
       "    .dataframe tbody tr th:only-of-type {\n",
       "        vertical-align: middle;\n",
       "    }\n",
       "\n",
       "    .dataframe tbody tr th {\n",
       "        vertical-align: top;\n",
       "    }\n",
       "\n",
       "    .dataframe thead th {\n",
       "        text-align: right;\n",
       "    }\n",
       "</style>\n",
       "<table border=\"1\" class=\"dataframe\">\n",
       "  <thead>\n",
       "    <tr style=\"text-align: right;\">\n",
       "      <th></th>\n",
       "      <th>longitude</th>\n",
       "      <th>latitude</th>\n",
       "      <th>month</th>\n",
       "      <th>day</th>\n",
       "      <th>FFMC</th>\n",
       "      <th>DMC</th>\n",
       "      <th>DC</th>\n",
       "      <th>ISI</th>\n",
       "      <th>temp</th>\n",
       "      <th>RH</th>\n",
       "      <th>wind</th>\n",
       "      <th>rain</th>\n",
       "      <th>area</th>\n",
       "    </tr>\n",
       "  </thead>\n",
       "  <tbody>\n",
       "    <tr>\n",
       "      <th>0</th>\n",
       "      <td>7</td>\n",
       "      <td>5</td>\n",
       "      <td>mar</td>\n",
       "      <td>fri</td>\n",
       "      <td>86.2</td>\n",
       "      <td>26.2</td>\n",
       "      <td>94.3</td>\n",
       "      <td>5.1</td>\n",
       "      <td>8.2</td>\n",
       "      <td>51</td>\n",
       "      <td>6.7</td>\n",
       "      <td>0.0</td>\n",
       "      <td>0.0</td>\n",
       "    </tr>\n",
       "    <tr>\n",
       "      <th>1</th>\n",
       "      <td>7</td>\n",
       "      <td>4</td>\n",
       "      <td>oct</td>\n",
       "      <td>tue</td>\n",
       "      <td>90.6</td>\n",
       "      <td>35.4</td>\n",
       "      <td>669.1</td>\n",
       "      <td>6.7</td>\n",
       "      <td>18.0</td>\n",
       "      <td>33</td>\n",
       "      <td>0.9</td>\n",
       "      <td>0.0</td>\n",
       "      <td>0.0</td>\n",
       "    </tr>\n",
       "    <tr>\n",
       "      <th>2</th>\n",
       "      <td>7</td>\n",
       "      <td>4</td>\n",
       "      <td>oct</td>\n",
       "      <td>sat</td>\n",
       "      <td>90.6</td>\n",
       "      <td>43.7</td>\n",
       "      <td>686.9</td>\n",
       "      <td>6.7</td>\n",
       "      <td>14.6</td>\n",
       "      <td>33</td>\n",
       "      <td>1.3</td>\n",
       "      <td>0.0</td>\n",
       "      <td>0.0</td>\n",
       "    </tr>\n",
       "    <tr>\n",
       "      <th>3</th>\n",
       "      <td>8</td>\n",
       "      <td>6</td>\n",
       "      <td>mar</td>\n",
       "      <td>fri</td>\n",
       "      <td>91.7</td>\n",
       "      <td>33.3</td>\n",
       "      <td>77.5</td>\n",
       "      <td>9.0</td>\n",
       "      <td>8.3</td>\n",
       "      <td>97</td>\n",
       "      <td>4.0</td>\n",
       "      <td>0.2</td>\n",
       "      <td>0.0</td>\n",
       "    </tr>\n",
       "    <tr>\n",
       "      <th>4</th>\n",
       "      <td>8</td>\n",
       "      <td>6</td>\n",
       "      <td>mar</td>\n",
       "      <td>sun</td>\n",
       "      <td>89.3</td>\n",
       "      <td>51.3</td>\n",
       "      <td>102.2</td>\n",
       "      <td>9.6</td>\n",
       "      <td>11.4</td>\n",
       "      <td>99</td>\n",
       "      <td>1.8</td>\n",
       "      <td>0.0</td>\n",
       "      <td>0.0</td>\n",
       "    </tr>\n",
       "  </tbody>\n",
       "</table>\n",
       "</div>"
      ],
      "text/plain": [
       "   longitude  latitude month  day  FFMC   DMC     DC  ISI  temp  RH  wind  \\\n",
       "0          7         5   mar  fri  86.2  26.2   94.3  5.1   8.2  51   6.7   \n",
       "1          7         4   oct  tue  90.6  35.4  669.1  6.7  18.0  33   0.9   \n",
       "2          7         4   oct  sat  90.6  43.7  686.9  6.7  14.6  33   1.3   \n",
       "3          8         6   mar  fri  91.7  33.3   77.5  9.0   8.3  97   4.0   \n",
       "4          8         6   mar  sun  89.3  51.3  102.2  9.6  11.4  99   1.8   \n",
       "\n",
       "   rain  area  \n",
       "0   0.0   0.0  \n",
       "1   0.0   0.0  \n",
       "2   0.0   0.0  \n",
       "3   0.2   0.0  \n",
       "4   0.0   0.0  "
      ]
     },
     "metadata": {},
     "output_type": "display_data"
    }
   ],
   "source": [
    "# Read ffd.csv into a dataframe [ /2 marks] \n",
    "df = pd.read_csv('ffd.csv')\n",
    "\n",
    "# Display the first 5 rows of the dataframe[ /2 marks]\n",
    "display(df.head())"
   ]
  },
  {
   "cell_type": "markdown",
   "metadata": {},
   "source": [
    "## Question 1.2 [ _ /5 marks]\n",
    "\n",
    "Let's convert all categorical data into numerical data using `get_dummies`. Before that, though, we should specify this data as *Categorical*; this has been done for you for the \"month\" column (you will need to do the same for the \"day\" column). Display the first 5 rows of your new dataframe."
   ]
  },
  {
   "cell_type": "code",
   "execution_count": 3,
   "metadata": {
    "scrolled": true
   },
   "outputs": [
    {
     "data": {
      "text/html": [
       "<div>\n",
       "<style scoped>\n",
       "    .dataframe tbody tr th:only-of-type {\n",
       "        vertical-align: middle;\n",
       "    }\n",
       "\n",
       "    .dataframe tbody tr th {\n",
       "        vertical-align: top;\n",
       "    }\n",
       "\n",
       "    .dataframe thead th {\n",
       "        text-align: right;\n",
       "    }\n",
       "</style>\n",
       "<table border=\"1\" class=\"dataframe\">\n",
       "  <thead>\n",
       "    <tr style=\"text-align: right;\">\n",
       "      <th></th>\n",
       "      <th>longitude</th>\n",
       "      <th>latitude</th>\n",
       "      <th>FFMC</th>\n",
       "      <th>DMC</th>\n",
       "      <th>DC</th>\n",
       "      <th>ISI</th>\n",
       "      <th>temp</th>\n",
       "      <th>RH</th>\n",
       "      <th>wind</th>\n",
       "      <th>rain</th>\n",
       "      <th>...</th>\n",
       "      <th>month_sep</th>\n",
       "      <th>month_oct</th>\n",
       "      <th>month_nov</th>\n",
       "      <th>month_dec</th>\n",
       "      <th>day_mon</th>\n",
       "      <th>day_tue</th>\n",
       "      <th>day_wed</th>\n",
       "      <th>day_thu</th>\n",
       "      <th>day_fri</th>\n",
       "      <th>day_sat</th>\n",
       "    </tr>\n",
       "  </thead>\n",
       "  <tbody>\n",
       "    <tr>\n",
       "      <th>0</th>\n",
       "      <td>7</td>\n",
       "      <td>5</td>\n",
       "      <td>86.2</td>\n",
       "      <td>26.2</td>\n",
       "      <td>94.3</td>\n",
       "      <td>5.1</td>\n",
       "      <td>8.2</td>\n",
       "      <td>51</td>\n",
       "      <td>6.7</td>\n",
       "      <td>0.0</td>\n",
       "      <td>...</td>\n",
       "      <td>0</td>\n",
       "      <td>0</td>\n",
       "      <td>0</td>\n",
       "      <td>0</td>\n",
       "      <td>0</td>\n",
       "      <td>0</td>\n",
       "      <td>0</td>\n",
       "      <td>0</td>\n",
       "      <td>1</td>\n",
       "      <td>0</td>\n",
       "    </tr>\n",
       "    <tr>\n",
       "      <th>1</th>\n",
       "      <td>7</td>\n",
       "      <td>4</td>\n",
       "      <td>90.6</td>\n",
       "      <td>35.4</td>\n",
       "      <td>669.1</td>\n",
       "      <td>6.7</td>\n",
       "      <td>18.0</td>\n",
       "      <td>33</td>\n",
       "      <td>0.9</td>\n",
       "      <td>0.0</td>\n",
       "      <td>...</td>\n",
       "      <td>0</td>\n",
       "      <td>1</td>\n",
       "      <td>0</td>\n",
       "      <td>0</td>\n",
       "      <td>0</td>\n",
       "      <td>1</td>\n",
       "      <td>0</td>\n",
       "      <td>0</td>\n",
       "      <td>0</td>\n",
       "      <td>0</td>\n",
       "    </tr>\n",
       "    <tr>\n",
       "      <th>2</th>\n",
       "      <td>7</td>\n",
       "      <td>4</td>\n",
       "      <td>90.6</td>\n",
       "      <td>43.7</td>\n",
       "      <td>686.9</td>\n",
       "      <td>6.7</td>\n",
       "      <td>14.6</td>\n",
       "      <td>33</td>\n",
       "      <td>1.3</td>\n",
       "      <td>0.0</td>\n",
       "      <td>...</td>\n",
       "      <td>0</td>\n",
       "      <td>1</td>\n",
       "      <td>0</td>\n",
       "      <td>0</td>\n",
       "      <td>0</td>\n",
       "      <td>0</td>\n",
       "      <td>0</td>\n",
       "      <td>0</td>\n",
       "      <td>0</td>\n",
       "      <td>1</td>\n",
       "    </tr>\n",
       "    <tr>\n",
       "      <th>3</th>\n",
       "      <td>8</td>\n",
       "      <td>6</td>\n",
       "      <td>91.7</td>\n",
       "      <td>33.3</td>\n",
       "      <td>77.5</td>\n",
       "      <td>9.0</td>\n",
       "      <td>8.3</td>\n",
       "      <td>97</td>\n",
       "      <td>4.0</td>\n",
       "      <td>0.2</td>\n",
       "      <td>...</td>\n",
       "      <td>0</td>\n",
       "      <td>0</td>\n",
       "      <td>0</td>\n",
       "      <td>0</td>\n",
       "      <td>0</td>\n",
       "      <td>0</td>\n",
       "      <td>0</td>\n",
       "      <td>0</td>\n",
       "      <td>1</td>\n",
       "      <td>0</td>\n",
       "    </tr>\n",
       "    <tr>\n",
       "      <th>4</th>\n",
       "      <td>8</td>\n",
       "      <td>6</td>\n",
       "      <td>89.3</td>\n",
       "      <td>51.3</td>\n",
       "      <td>102.2</td>\n",
       "      <td>9.6</td>\n",
       "      <td>11.4</td>\n",
       "      <td>99</td>\n",
       "      <td>1.8</td>\n",
       "      <td>0.0</td>\n",
       "      <td>...</td>\n",
       "      <td>0</td>\n",
       "      <td>0</td>\n",
       "      <td>0</td>\n",
       "      <td>0</td>\n",
       "      <td>0</td>\n",
       "      <td>0</td>\n",
       "      <td>0</td>\n",
       "      <td>0</td>\n",
       "      <td>0</td>\n",
       "      <td>0</td>\n",
       "    </tr>\n",
       "  </tbody>\n",
       "</table>\n",
       "<p>5 rows × 28 columns</p>\n",
       "</div>"
      ],
      "text/plain": [
       "   longitude  latitude  FFMC   DMC     DC  ISI  temp  RH  wind  rain  ...  \\\n",
       "0          7         5  86.2  26.2   94.3  5.1   8.2  51   6.7   0.0  ...   \n",
       "1          7         4  90.6  35.4  669.1  6.7  18.0  33   0.9   0.0  ...   \n",
       "2          7         4  90.6  43.7  686.9  6.7  14.6  33   1.3   0.0  ...   \n",
       "3          8         6  91.7  33.3   77.5  9.0   8.3  97   4.0   0.2  ...   \n",
       "4          8         6  89.3  51.3  102.2  9.6  11.4  99   1.8   0.0  ...   \n",
       "\n",
       "   month_sep  month_oct  month_nov  month_dec  day_mon  day_tue  day_wed  \\\n",
       "0          0          0          0          0        0        0        0   \n",
       "1          0          1          0          0        0        1        0   \n",
       "2          0          1          0          0        0        0        0   \n",
       "3          0          0          0          0        0        0        0   \n",
       "4          0          0          0          0        0        0        0   \n",
       "\n",
       "   day_thu  day_fri  day_sat  \n",
       "0        0        1        0  \n",
       "1        0        0        0  \n",
       "2        0        0        1  \n",
       "3        0        1        0  \n",
       "4        0        0        0  \n",
       "\n",
       "[5 rows x 28 columns]"
      ]
     },
     "metadata": {},
     "output_type": "display_data"
    }
   ],
   "source": [
    "df['month'] = pd.Categorical(df.month, categories=['jan','feb','mar', 'apr','may','jun','jul','aug','sep','oct','nov','dec'])\n",
    "\n",
    "# Set non-numerical data as Categorical [ /2 marks]\n",
    "df['day'] = pd.Categorical(df.day, categories=['sun','mon', 'tue','wed','thu','fri','sat'])\n",
    "\n",
    "# Use \"get_dummies\" to convert categorical data to numerical data (you can set \"drop_first=True\") [ /2 marks]                      \n",
    "df = pd.get_dummies(df, drop_first=True)\n",
    "\n",
    "# Display first 5 rows of the dataframe [ /1 mark]\n",
    "display(df.head())"
   ]
  },
  {
   "cell_type": "markdown",
   "metadata": {},
   "source": [
    "## Question 1.3 [ _ /4 marks]\n",
    "\n",
    "Let's use **mean squared error** as our error function. We will use this to evaluate and compare our models. Write a function called `mse` with arguments `y` and `ypr`(predicted y) which returns the mean squared error. Recall the formula for MSE below:\n",
    "\n",
    "$$ MSE = \\frac{1}{n} \\sum_{i=1}^{n}  \\left( \\hat{y_{i}}-y_{i}\\right)^{2} $$"
   ]
  },
  {
   "cell_type": "code",
   "execution_count": 4,
   "metadata": {},
   "outputs": [],
   "source": [
    "# Define the MSE function [ /4 marks]\n",
    "def mse(y,ypr):\n",
    "    return np.mean((y-ypr)**2)"
   ]
  },
  {
   "cell_type": "markdown",
   "metadata": {},
   "source": [
    "## Question 1.4: [ _ /6 marks]\n",
    "\n",
    "Let's now prepare our dataset by splitting it into training and test data. Use sklearn's `train_test_split` (`test_size=0.5`, `random_state=0`). "
   ]
  },
  {
   "cell_type": "code",
   "execution_count": 5,
   "metadata": {},
   "outputs": [],
   "source": [
    "# Create X and y [ /4 marks]\n",
    "X = df.iloc[:,0:28] #tedious\n",
    "X = df.drop('area', axis = 'columns')\n",
    "y = df.area\n",
    "\n",
    "# Use train_test_split on X, y [ /2 marks]\n",
    "Xtrain, Xtest, ytrain, ytest = train_test_split(X, y, test_size=0.5, random_state=0)\n"
   ]
  },
  {
   "cell_type": "markdown",
   "metadata": {},
   "source": [
    "## Question 1.5 [ _ / 4 marks]\n",
    "\n",
    "For our first model let us consider fitting a line to the data using linear regression. Use an sklearn model pipeline. For more information on Pipelines and how to implement them, feel free to take a look at the following link: https://scikit-learn.org/stable/modules/generated/sklearn.pipeline.Pipeline.html"
   ]
  },
  {
   "cell_type": "code",
   "execution_count": 6,
   "metadata": {},
   "outputs": [],
   "source": [
    "# Create a pipeline for model 1 (M1) [ /4 marks]\n",
    "M1 = Pipeline([\n",
    "    ('lr1', LinearRegression())\n",
    "])"
   ]
  },
  {
   "cell_type": "markdown",
   "metadata": {},
   "source": [
    "## Question 1.6 [ _ / 6 marks]\n",
    "\n",
    "For our second model let's add quadratic terms for all features (use `PolynomialFeatures`). Create a model pipeline for our second model (M2)."
   ]
  },
  {
   "cell_type": "code",
   "execution_count": 7,
   "metadata": {},
   "outputs": [],
   "source": [
    "# Create a pipeline for model 2 (M2); you can set \"include_bias=False\" [ / 6 marks]\n",
    "M2 = Pipeline([\n",
    "    ('poly', PolynomialFeatures(degree=2, include_bias=False)),\n",
    "    ('lr2', LinearRegression())\n",
    "])"
   ]
  },
  {
   "cell_type": "markdown",
   "metadata": {},
   "source": [
    "## Question 1.7 [ _ / 10 marks]\n",
    "\n",
    "`temperature (temp)` and `relative humidity (RH)` may be important features to consider. Let's extend model 1 by adding a *squared* term for temp and a *cubed* term for RH. Before creating a pipeline for this model, we need a custom transformer: here we can specify a column for the squared temp and cubed RH terms. The transformer has been initialized below, but you'll need to finish it with 1-2 lines of code. After this, create your corresponding pipeline (M3)."
   ]
  },
  {
   "cell_type": "code",
   "execution_count": 8,
   "metadata": {},
   "outputs": [],
   "source": [
    "# Modify the transform method of the KeyFeatures class [ /4 marks]\n",
    "class KeyFeatures(BaseEstimator, TransformerMixin):\n",
    "    def fit(self, X, y=None):\n",
    "        return self\n",
    "\n",
    "    def transform(self, X, y=None):\n",
    "        X = X.assign(temp= X.temp**2)\n",
    "        X = X.assign(RH= X.RH**3)\n",
    "        return X\n",
    "\n",
    "# Create a pipeline for model 3 (M3) [ /6 marks]\n",
    "M3 = Pipeline([\n",
    "    ('Key_Features', KeyFeatures()),\n",
    "    ('lr3', LinearRegression())\n",
    "])"
   ]
  },
  {
   "cell_type": "markdown",
   "metadata": {},
   "source": [
    "## Question 1.8 [ _ /7 marks]\n",
    "\n",
    "For models 1-3, use 4-fold Cross-validation (CV) on the training set and compute (and print) the mean CV score. Use `mse` as your error function."
   ]
  },
  {
   "cell_type": "code",
   "execution_count": 9,
   "metadata": {},
   "outputs": [
    {
     "name": "stdout",
     "output_type": "stream",
     "text": [
      "CV loss (M1): 2.1530199010134936\n",
      "CV loss (M2): 95624.90775635651\n",
      "CV loss (M3): 2.165843590568246\n"
     ]
    }
   ],
   "source": [
    "# Use 4-fold CV on all models, print the mean CV scores [ /7 marks]\n",
    "sc = make_scorer(mse)\n",
    "kf = KFold(n_splits=4, shuffle=False)\n",
    "print(f\"CV loss (M1): {cross_val_score(M1, Xtrain, ytrain, cv=kf, scoring=sc).mean()}\")\n",
    "print(f\"CV loss (M2): {cross_val_score(M2, Xtrain, ytrain, cv=kf, scoring=sc).mean()}\")\n",
    "print(f\"CV loss (M3): {cross_val_score(M3, Xtrain, ytrain, cv=kf, scoring=sc).mean()}\")"
   ]
  },
  {
   "cell_type": "markdown",
   "metadata": {},
   "source": [
    "## Question 1.9 [ _ / 5 marks]\n",
    "\n",
    "Which model would you choose at this stage? Why would you pick this model over the other models? Provide your response in a sentence or two."
   ]
  },
  {
   "cell_type": "markdown",
   "metadata": {},
   "source": [
    "**Your answer**: Based on the above values, M1: 2.153, M2: 95624, and M3: 2.165. Since we have to minimise the error, M1 model is the better fit as it has the lowest validation error."
   ]
  },
  {
   "cell_type": "markdown",
   "metadata": {},
   "source": [
    "## Question 2.1 [ _ /  7 marks]\n",
    "\n",
    "Estimate the performance (test loss) of your chosen model on the test data (which has been held out until this point) using MSE. Print the test loss."
   ]
  },
  {
   "cell_type": "code",
   "execution_count": 10,
   "metadata": {},
   "outputs": [
    {
     "name": "stdout",
     "output_type": "stream",
     "text": [
      "Test loss: 2.102764237510351\n"
     ]
    }
   ],
   "source": [
    "# Compute the test loss on the unseen (test) dataset [ /6 marks]\n",
    "ypred = M1.fit(Xtrain, ytrain).predict(Xtest)\n",
    "#trloss = mse(ytrain,M1.predict(Xtrain))\n",
    "teloss = mse(ytest,M1.predict(Xtest))\n",
    "print(f\"Test loss: {teloss}\")"
   ]
  },
  {
   "cell_type": "markdown",
   "metadata": {},
   "source": [
    "## Question 2.2 [ _ /12 marks]\n",
    "\n",
    "With your chosen model, compute (and print) a 95% confidence interval for the average test error using the Central Limit Theorem. Use the following formula: \n",
    "\n",
    "$$ \\bar{L_n} \\pm 1.96 * \\frac{\\sigma_{l}}{\\sqrt{n}}$$\n",
    "\n",
    "Here $\\bar{L_n}$ is the average test loss (i.e. for our test set), $\\sigma_l$ is the standard deviation (of our test losses), and $n$ is the total number of test losses we compute.  "
   ]
  },
  {
   "cell_type": "code",
   "execution_count": 11,
   "metadata": {},
   "outputs": [
    {
     "name": "stdout",
     "output_type": "stream",
     "text": [
      "Central Limit Theorem: [1.7498196789849498, 2.455708796035752]\n"
     ]
    }
   ],
   "source": [
    "# Compute the average test loss for our test set [ /6 marks]\n",
    "std_err = np.std((ytest-ypred)*2,ddof=1)/np.sqrt(len(ypred))\n",
    "\n",
    "# Calculate the 95% Confidence Interval for average test loss [ /6 marks]\n",
    "cit=[teloss-1.96*std_err,teloss+1.96*std_err]\n",
    "\n",
    "print(f\"Central Limit Theorem: {cit}\")"
   ]
  }
 ],
 "metadata": {
  "kernelspec": {
   "display_name": "Python 3",
   "language": "python",
   "name": "python3"
  },
  "language_info": {
   "codemirror_mode": {
    "name": "ipython",
    "version": 3
   },
   "file_extension": ".py",
   "mimetype": "text/x-python",
   "name": "python",
   "nbconvert_exporter": "python",
   "pygments_lexer": "ipython3",
   "version": "3.8.8"
  }
 },
 "nbformat": 4,
 "nbformat_minor": 4
}
